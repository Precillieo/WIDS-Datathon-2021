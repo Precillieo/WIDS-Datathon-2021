{
  "nbformat": 4,
  "nbformat_minor": 0,
  "metadata": {
    "colab": {
      "name": "Catboost on WIDS",
      "provenance": [],
      "collapsed_sections": []
    },
    "kernelspec": {
      "display_name": "Python 3",
      "name": "python3"
    }
  },
  "cells": [
    {
      "cell_type": "code",
      "metadata": {
        "colab": {
          "base_uri": "https://localhost:8080/"
        },
        "id": "41pqVwH8ljyU",
        "outputId": "922bea7d-0ecc-4ee2-ff64-a7fcf31c16d6"
      },
      "source": [
        "import pandas as pd\r\n",
        "import numpy as np\r\n",
        "from pandas import DataFrame\r\n",
        "from sklearn.model_selection import train_test_split, KFold, StratifiedKFold, cross_val_score\r\n",
        "from sklearn.metrics import classification_report, roc_auc_score\r\n",
        "from sklearn.preprocessing import LabelEncoder\r\n",
        "!pip install catboost\r\n",
        "from catboost import CatBoostClassifier"
      ],
      "execution_count": null,
      "outputs": [
        {
          "output_type": "stream",
          "text": [
            "Requirement already satisfied: catboost in /usr/local/lib/python3.6/dist-packages (0.24.4)\n",
            "Requirement already satisfied: plotly in /usr/local/lib/python3.6/dist-packages (from catboost) (4.4.1)\n",
            "Requirement already satisfied: six in /usr/local/lib/python3.6/dist-packages (from catboost) (1.15.0)\n",
            "Requirement already satisfied: graphviz in /usr/local/lib/python3.6/dist-packages (from catboost) (0.10.1)\n",
            "Requirement already satisfied: numpy>=1.16.0 in /usr/local/lib/python3.6/dist-packages (from catboost) (1.19.5)\n",
            "Requirement already satisfied: matplotlib in /usr/local/lib/python3.6/dist-packages (from catboost) (3.2.2)\n",
            "Requirement already satisfied: pandas>=0.24.0 in /usr/local/lib/python3.6/dist-packages (from catboost) (1.1.5)\n",
            "Requirement already satisfied: scipy in /usr/local/lib/python3.6/dist-packages (from catboost) (1.4.1)\n",
            "Requirement already satisfied: retrying>=1.3.3 in /usr/local/lib/python3.6/dist-packages (from plotly->catboost) (1.3.3)\n",
            "Requirement already satisfied: kiwisolver>=1.0.1 in /usr/local/lib/python3.6/dist-packages (from matplotlib->catboost) (1.3.1)\n",
            "Requirement already satisfied: pyparsing!=2.0.4,!=2.1.2,!=2.1.6,>=2.0.1 in /usr/local/lib/python3.6/dist-packages (from matplotlib->catboost) (2.4.7)\n",
            "Requirement already satisfied: cycler>=0.10 in /usr/local/lib/python3.6/dist-packages (from matplotlib->catboost) (0.10.0)\n",
            "Requirement already satisfied: python-dateutil>=2.1 in /usr/local/lib/python3.6/dist-packages (from matplotlib->catboost) (2.8.1)\n",
            "Requirement already satisfied: pytz>=2017.2 in /usr/local/lib/python3.6/dist-packages (from pandas>=0.24.0->catboost) (2018.9)\n"
          ],
          "name": "stdout"
        }
      ]
    },
    {
      "cell_type": "code",
      "metadata": {
        "colab": {
          "base_uri": "https://localhost:8080/"
        },
        "id": "1BEcMB-Vlshk",
        "outputId": "357a40c3-ddb1-4469-e7c9-173ec2abed5b"
      },
      "source": [
        "train= pd.read_csv('/content/drive/MyDrive/WIDS Stanford/TrainingWiDS2021.csv/TrainingWiDS2021.csv')\r\n",
        "test= pd.read_csv('/content/drive/MyDrive/WIDS Stanford/UnlabeledWiDS2021.csv/UnlabeledWiDS2021.csv')\r\n",
        "val= pd.read_csv('/content/drive/MyDrive/WIDS Stanford/UnlabeledWiDS2021.csv/UnlabeledWiDS2021.csv')\r\n",
        "print(\"train_shape:\", train.shape)\r\n",
        "print('test_shape:', test.shape)"
      ],
      "execution_count": null,
      "outputs": [
        {
          "output_type": "stream",
          "text": [
            "train_shape: (130157, 181)\n",
            "test_shape: (10234, 180)\n"
          ],
          "name": "stdout"
        }
      ]
    },
    {
      "cell_type": "code",
      "metadata": {
        "id": "rOcHaKpsmhlz"
      },
      "source": [
        "cat_feat= train.select_dtypes(include=['object'])"
      ],
      "execution_count": null,
      "outputs": []
    },
    {
      "cell_type": "code",
      "metadata": {
        "colab": {
          "base_uri": "https://localhost:8080/",
          "height": 419
        },
        "id": "dUe-bJDUm6Ss",
        "outputId": "f26793f6-2f81-4689-b104-dde8ffef7824"
      },
      "source": [
        "cat_feat"
      ],
      "execution_count": null,
      "outputs": [
        {
          "output_type": "execute_result",
          "data": {
            "text/html": [
              "<div>\n",
              "<style scoped>\n",
              "    .dataframe tbody tr th:only-of-type {\n",
              "        vertical-align: middle;\n",
              "    }\n",
              "\n",
              "    .dataframe tbody tr th {\n",
              "        vertical-align: top;\n",
              "    }\n",
              "\n",
              "    .dataframe thead th {\n",
              "        text-align: right;\n",
              "    }\n",
              "</style>\n",
              "<table border=\"1\" class=\"dataframe\">\n",
              "  <thead>\n",
              "    <tr style=\"text-align: right;\">\n",
              "      <th></th>\n",
              "      <th>ethnicity</th>\n",
              "      <th>gender</th>\n",
              "      <th>hospital_admit_source</th>\n",
              "      <th>icu_admit_source</th>\n",
              "      <th>icu_stay_type</th>\n",
              "      <th>icu_type</th>\n",
              "    </tr>\n",
              "  </thead>\n",
              "  <tbody>\n",
              "    <tr>\n",
              "      <th>0</th>\n",
              "      <td>Caucasian</td>\n",
              "      <td>M</td>\n",
              "      <td>Floor</td>\n",
              "      <td>Floor</td>\n",
              "      <td>admit</td>\n",
              "      <td>CTICU</td>\n",
              "    </tr>\n",
              "    <tr>\n",
              "      <th>1</th>\n",
              "      <td>Caucasian</td>\n",
              "      <td>F</td>\n",
              "      <td>Floor</td>\n",
              "      <td>Floor</td>\n",
              "      <td>admit</td>\n",
              "      <td>Med-Surg ICU</td>\n",
              "    </tr>\n",
              "    <tr>\n",
              "      <th>2</th>\n",
              "      <td>Caucasian</td>\n",
              "      <td>F</td>\n",
              "      <td>Emergency Department</td>\n",
              "      <td>Accident &amp; Emergency</td>\n",
              "      <td>admit</td>\n",
              "      <td>Med-Surg ICU</td>\n",
              "    </tr>\n",
              "    <tr>\n",
              "      <th>3</th>\n",
              "      <td>Caucasian</td>\n",
              "      <td>F</td>\n",
              "      <td>Operating Room</td>\n",
              "      <td>Operating Room / Recovery</td>\n",
              "      <td>admit</td>\n",
              "      <td>CTICU</td>\n",
              "    </tr>\n",
              "    <tr>\n",
              "      <th>4</th>\n",
              "      <td>Caucasian</td>\n",
              "      <td>M</td>\n",
              "      <td>NaN</td>\n",
              "      <td>Accident &amp; Emergency</td>\n",
              "      <td>admit</td>\n",
              "      <td>Med-Surg ICU</td>\n",
              "    </tr>\n",
              "    <tr>\n",
              "      <th>...</th>\n",
              "      <td>...</td>\n",
              "      <td>...</td>\n",
              "      <td>...</td>\n",
              "      <td>...</td>\n",
              "      <td>...</td>\n",
              "      <td>...</td>\n",
              "    </tr>\n",
              "    <tr>\n",
              "      <th>130152</th>\n",
              "      <td>Caucasian</td>\n",
              "      <td>M</td>\n",
              "      <td>Emergency Department</td>\n",
              "      <td>Accident &amp; Emergency</td>\n",
              "      <td>admit</td>\n",
              "      <td>Cardiac ICU</td>\n",
              "    </tr>\n",
              "    <tr>\n",
              "      <th>130153</th>\n",
              "      <td>Caucasian</td>\n",
              "      <td>F</td>\n",
              "      <td>Direct Admit</td>\n",
              "      <td>Accident &amp; Emergency</td>\n",
              "      <td>admit</td>\n",
              "      <td>MICU</td>\n",
              "    </tr>\n",
              "    <tr>\n",
              "      <th>130154</th>\n",
              "      <td>African American</td>\n",
              "      <td>M</td>\n",
              "      <td>Emergency Department</td>\n",
              "      <td>Accident &amp; Emergency</td>\n",
              "      <td>admit</td>\n",
              "      <td>Cardiac ICU</td>\n",
              "    </tr>\n",
              "    <tr>\n",
              "      <th>130155</th>\n",
              "      <td>Caucasian</td>\n",
              "      <td>M</td>\n",
              "      <td>Emergency Department</td>\n",
              "      <td>Accident &amp; Emergency</td>\n",
              "      <td>admit</td>\n",
              "      <td>Med-Surg ICU</td>\n",
              "    </tr>\n",
              "    <tr>\n",
              "      <th>130156</th>\n",
              "      <td>African American</td>\n",
              "      <td>M</td>\n",
              "      <td>Emergency Department</td>\n",
              "      <td>Accident &amp; Emergency</td>\n",
              "      <td>admit</td>\n",
              "      <td>MICU</td>\n",
              "    </tr>\n",
              "  </tbody>\n",
              "</table>\n",
              "<p>130157 rows × 6 columns</p>\n",
              "</div>"
            ],
            "text/plain": [
              "               ethnicity gender  ... icu_stay_type      icu_type\n",
              "0              Caucasian      M  ...         admit         CTICU\n",
              "1              Caucasian      F  ...         admit  Med-Surg ICU\n",
              "2              Caucasian      F  ...         admit  Med-Surg ICU\n",
              "3              Caucasian      F  ...         admit         CTICU\n",
              "4              Caucasian      M  ...         admit  Med-Surg ICU\n",
              "...                  ...    ...  ...           ...           ...\n",
              "130152         Caucasian      M  ...         admit   Cardiac ICU\n",
              "130153         Caucasian      F  ...         admit          MICU\n",
              "130154  African American      M  ...         admit   Cardiac ICU\n",
              "130155         Caucasian      M  ...         admit  Med-Surg ICU\n",
              "130156  African American      M  ...         admit          MICU\n",
              "\n",
              "[130157 rows x 6 columns]"
            ]
          },
          "metadata": {
            "tags": []
          },
          "execution_count": 4
        }
      ]
    },
    {
      "cell_type": "markdown",
      "metadata": {
        "id": "28wpI1C5wxKL"
      },
      "source": [
        "# Cat Features"
      ]
    },
    {
      "cell_type": "code",
      "metadata": {
        "id": "wKTd-WPNw6aV"
      },
      "source": [
        "cat_feats= ['ethnicity', 'gender', 'hospital_admit_source', 'icu_admit_source', 'icu_stay_type', 'icu_type']\r\n",
        "for x in cat_feats:\r\n",
        "  le= LabelEncoder()\r\n",
        "  train[x]= le.fit_transform(train[x].astype(str))"
      ],
      "execution_count": null,
      "outputs": []
    },
    {
      "cell_type": "code",
      "metadata": {
        "id": "LurP0SN07LVe"
      },
      "source": [
        "cat_feats= ['ethnicity', 'gender', 'hospital_admit_source', 'icu_admit_source', 'icu_stay_type', 'icu_type']\r\n",
        "for x in cat_feats:\r\n",
        "  le= LabelEncoder()\r\n",
        "  test[x]= le.fit_transform(test[x].astype(str))"
      ],
      "execution_count": null,
      "outputs": []
    },
    {
      "cell_type": "code",
      "metadata": {
        "id": "mPaDmLQTE405"
      },
      "source": [
        "train.drop(['Unnamed: 0', 'encounter_id', 'hospital_id'], axis = 1, inplace = True)"
      ],
      "execution_count": null,
      "outputs": []
    },
    {
      "cell_type": "code",
      "metadata": {
        "id": "O_FplwRAE4nh"
      },
      "source": [
        "test.drop(['Unnamed: 0', 'encounter_id', 'hospital_id'], axis = 1, inplace = True)"
      ],
      "execution_count": null,
      "outputs": []
    },
    {
      "cell_type": "markdown",
      "metadata": {
        "id": "W5Z8O_b0w1vU"
      },
      "source": [
        "# Modeling"
      ]
    },
    {
      "cell_type": "code",
      "metadata": {
        "id": "C2Mwl0GanIZb"
      },
      "source": [
        "X= train.drop('diabetes_mellitus', 1)\r\n",
        "y= train['diabetes_mellitus']"
      ],
      "execution_count": null,
      "outputs": []
    },
    {
      "cell_type": "code",
      "metadata": {
        "id": "VrwUq0NButFg"
      },
      "source": [
        "cb_params={\r\n",
        "    'n_estimators': 3500,\r\n",
        "    #'learning_rate':0.01,\r\n",
        "    'random_seed': 3500,\r\n",
        "    'objective':'CrossEntropy',\r\n",
        "    'eval_metric': 'AUC',\r\n",
        "    'max_depth': 8,\r\n",
        "    'thread_count': -1,\r\n",
        "}"
      ],
      "execution_count": null,
      "outputs": []
    },
    {
      "cell_type": "code",
      "metadata": {
        "id": "tsRPNgBHutD8"
      },
      "source": [
        "cb= CatBoostClassifier(**cb_params, verbose= False)"
      ],
      "execution_count": null,
      "outputs": []
    },
    {
      "cell_type": "code",
      "metadata": {
        "id": "55hJ36uous77"
      },
      "source": [
        "scorevalid, scoretest= [], []\r\n",
        "layers= StratifiedKFold(n_splits= 2, shuffle= True, random_state=999)"
      ],
      "execution_count": null,
      "outputs": []
    },
    {
      "cell_type": "code",
      "metadata": {
        "colab": {
          "background_save": true,
          "base_uri": "https://localhost:8080/"
        },
        "id": "gNDGE7cVvGEi",
        "outputId": "1f089a5d-c03f-4cb5-c0f4-7acd8185b653"
      },
      "source": [
        "for  i, (trainvalue, valvalue) in enumerate (layers.split(X, y)):\r\n",
        "  train_x, val_x=  X.iloc[trainvalue], X.iloc[valvalue]\r\n",
        "  train_y, val_y= y.iloc[trainvalue], y.iloc[valvalue]\r\n",
        "  print('#'*50 + 'fold'+ str(i))\r\n",
        "\r\n",
        "  cb.fit(train_x, train_y, cat_features= cat_feats)\r\n",
        "  pred= cb.predict_proba(val_x)[:,1]\r\n",
        "  valpred= roc_auc_score(val_y, pred)\r\n",
        "  scorevalid.append(valpred)\r\n",
        "\r\n",
        "  predict= cb.predict_proba(test)[:, 1]\r\n",
        "  scoretest.append(predict)"
      ],
      "execution_count": null,
      "outputs": [
        {
          "output_type": "stream",
          "text": [
            "##################################################fold0\n",
            "##################################################fold1\n"
          ],
          "name": "stdout"
        }
      ]
    },
    {
      "cell_type": "code",
      "metadata": {
        "colab": {
          "background_save": true
        },
        "id": "eTGuB2wlvGAO",
        "outputId": "44635505-9adb-4919-c653-b054ff77c4e2"
      },
      "source": [
        "print(np.mean(scorevalid))"
      ],
      "execution_count": null,
      "outputs": [
        {
          "output_type": "stream",
          "text": [
            "0.8659798818593794\n"
          ],
          "name": "stdout"
        }
      ]
    },
    {
      "cell_type": "code",
      "metadata": {
        "id": "m7HyLrZGvF-g"
      },
      "source": [
        "result= pd.DataFrame(scorevalid).T"
      ],
      "execution_count": null,
      "outputs": []
    },
    {
      "cell_type": "code",
      "metadata": {
        "id": "g4qogxJIvziM"
      },
      "source": [
        "result.head()"
      ],
      "execution_count": null,
      "outputs": []
    },
    {
      "cell_type": "code",
      "metadata": {
        "id": "mY0bqxalvzeU"
      },
      "source": [
        "final_pred= np.mean(scoretest, axis=0)"
      ],
      "execution_count": null,
      "outputs": []
    },
    {
      "cell_type": "markdown",
      "metadata": {
        "id": "WM8RVs1Tw6uH"
      },
      "source": [
        "# Submission File"
      ]
    },
    {
      "cell_type": "code",
      "metadata": {
        "id": "nljTIEFC8u5O"
      },
      "source": [
        "submission = val[['encounter_id','hospital_id']]"
      ],
      "execution_count": null,
      "outputs": []
    },
    {
      "cell_type": "code",
      "metadata": {
        "id": "tsgYdYnH9Eci",
        "colab": {
          "base_uri": "https://localhost:8080/",
          "height": 411
        },
        "outputId": "44508f4c-5c0d-41f8-a448-36f8d6e2333a"
      },
      "source": [
        "submission['diabetes_mellitus']= final_pred\r\n",
        "submission.drop('hospital_id', 1, inplace= True)\r\n",
        "submission.head()"
      ],
      "execution_count": null,
      "outputs": [
        {
          "output_type": "stream",
          "text": [
            "/usr/local/lib/python3.6/dist-packages/ipykernel_launcher.py:1: SettingWithCopyWarning: \n",
            "A value is trying to be set on a copy of a slice from a DataFrame.\n",
            "Try using .loc[row_indexer,col_indexer] = value instead\n",
            "\n",
            "See the caveats in the documentation: https://pandas.pydata.org/pandas-docs/stable/user_guide/indexing.html#returning-a-view-versus-a-copy\n",
            "  \"\"\"Entry point for launching an IPython kernel.\n",
            "/usr/local/lib/python3.6/dist-packages/pandas/core/frame.py:4174: SettingWithCopyWarning: \n",
            "A value is trying to be set on a copy of a slice from a DataFrame\n",
            "\n",
            "See the caveats in the documentation: https://pandas.pydata.org/pandas-docs/stable/user_guide/indexing.html#returning-a-view-versus-a-copy\n",
            "  errors=errors,\n"
          ],
          "name": "stderr"
        },
        {
          "output_type": "execute_result",
          "data": {
            "text/html": [
              "<div>\n",
              "<style scoped>\n",
              "    .dataframe tbody tr th:only-of-type {\n",
              "        vertical-align: middle;\n",
              "    }\n",
              "\n",
              "    .dataframe tbody tr th {\n",
              "        vertical-align: top;\n",
              "    }\n",
              "\n",
              "    .dataframe thead th {\n",
              "        text-align: right;\n",
              "    }\n",
              "</style>\n",
              "<table border=\"1\" class=\"dataframe\">\n",
              "  <thead>\n",
              "    <tr style=\"text-align: right;\">\n",
              "      <th></th>\n",
              "      <th>encounter_id</th>\n",
              "      <th>diabetes_mellitus</th>\n",
              "    </tr>\n",
              "  </thead>\n",
              "  <tbody>\n",
              "    <tr>\n",
              "      <th>0</th>\n",
              "      <td>144740</td>\n",
              "      <td>0.035113</td>\n",
              "    </tr>\n",
              "    <tr>\n",
              "      <th>1</th>\n",
              "      <td>141990</td>\n",
              "      <td>0.084127</td>\n",
              "    </tr>\n",
              "    <tr>\n",
              "      <th>2</th>\n",
              "      <td>142038</td>\n",
              "      <td>0.094958</td>\n",
              "    </tr>\n",
              "    <tr>\n",
              "      <th>3</th>\n",
              "      <td>138628</td>\n",
              "      <td>0.029812</td>\n",
              "    </tr>\n",
              "    <tr>\n",
              "      <th>4</th>\n",
              "      <td>141682</td>\n",
              "      <td>0.323680</td>\n",
              "    </tr>\n",
              "  </tbody>\n",
              "</table>\n",
              "</div>"
            ],
            "text/plain": [
              "   encounter_id  diabetes_mellitus\n",
              "0        144740           0.035113\n",
              "1        141990           0.084127\n",
              "2        142038           0.094958\n",
              "3        138628           0.029812\n",
              "4        141682           0.323680"
            ]
          },
          "metadata": {
            "tags": []
          },
          "execution_count": 0
        }
      ]
    },
    {
      "cell_type": "code",
      "metadata": {
        "id": "JXMxV2fc9OVz"
      },
      "source": [
        "submission.to_csv(\"standfords.csv\", index=False)"
      ],
      "execution_count": null,
      "outputs": []
    },
    {
      "cell_type": "code",
      "metadata": {
        "id": "tRwjbR0w9QJE",
        "colab": {
          "base_uri": "https://localhost:8080/",
          "height": 163
        },
        "outputId": "dd4cb3ca-a3a8-4dff-c901-72f2573f944d"
      },
      "source": [
        "print(classification_report(val_y, preds))"
      ],
      "execution_count": null,
      "outputs": [
        {
          "output_type": "error",
          "ename": "NameError",
          "evalue": "ignored",
          "traceback": [
            "\u001b[0;31m---------------------------------------------------------------------------\u001b[0m",
            "\u001b[0;31mNameError\u001b[0m                                 Traceback (most recent call last)",
            "\u001b[0;32m<ipython-input-32-20d9d0e73666>\u001b[0m in \u001b[0;36m<module>\u001b[0;34m()\u001b[0m\n\u001b[0;32m----> 1\u001b[0;31m \u001b[0mprint\u001b[0m\u001b[0;34m(\u001b[0m\u001b[0mclassification_report\u001b[0m\u001b[0;34m(\u001b[0m\u001b[0mval_y\u001b[0m\u001b[0;34m,\u001b[0m \u001b[0mpreds\u001b[0m\u001b[0;34m)\u001b[0m\u001b[0;34m)\u001b[0m\u001b[0;34m\u001b[0m\u001b[0;34m\u001b[0m\u001b[0m\n\u001b[0m",
            "\u001b[0;31mNameError\u001b[0m: name 'preds' is not defined"
          ]
        }
      ]
    },
    {
      "cell_type": "code",
      "metadata": {
        "id": "oaxe-ElP_0Vw"
      },
      "source": [
        ""
      ],
      "execution_count": null,
      "outputs": []
    }
  ]
}